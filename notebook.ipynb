{
 "cells": [
  {
   "cell_type": "code",
   "execution_count": 41,
   "id": "49cf8118-e273-4456-b64a-6b0d972c2225",
   "metadata": {},
   "outputs": [
    {
     "data": {
      "application/vnd.jupyter.widget-view+json": {
       "model_id": "3a334d22a5394d1b8de4cc1d5bb3a8ca",
       "version_major": 2,
       "version_minor": 0
      },
      "text/plain": [
       "Text(value='10.1103/PhysRevLett.19.1264', description='DOI code:', placeholder='Type something')"
      ]
     },
     "metadata": {},
     "output_type": "display_data"
    },
    {
     "data": {
      "application/vnd.jupyter.widget-view+json": {
       "model_id": "11687924340745dc9854fddf133e9914",
       "version_major": 2,
       "version_minor": 0
      },
      "text/plain": [
       "Button(button_style='primary', description='Load DOI', style=ButtonStyle())"
      ]
     },
     "metadata": {},
     "output_type": "display_data"
    },
    {
     "data": {
      "application/vnd.jupyter.widget-view+json": {
       "model_id": "53b9bf3d2f564d5194d0b28f05f4a796",
       "version_major": 2,
       "version_minor": 0
      },
      "text/plain": [
       "Button(button_style='danger', description='Clear output', style=ButtonStyle())"
      ]
     },
     "metadata": {},
     "output_type": "display_data"
    },
    {
     "data": {
      "application/vnd.jupyter.widget-view+json": {
       "model_id": "e1bd27e933254f459cde85efb0531a8b",
       "version_major": 2,
       "version_minor": 0
      },
      "text/plain": [
       "HTML(value='')"
      ]
     },
     "metadata": {},
     "output_type": "display_data"
    },
    {
     "data": {
      "application/vnd.jupyter.widget-view+json": {
       "model_id": "aa0c904563df48fcb69c1eaac1fc009f",
       "version_major": 2,
       "version_minor": 0
      },
      "text/plain": [
       "HTML(value='')"
      ]
     },
     "metadata": {},
     "output_type": "display_data"
    },
    {
     "data": {
      "application/vnd.jupyter.widget-view+json": {
       "model_id": "f3d74cc281d74055b1ce54d40a88ddbc",
       "version_major": 2,
       "version_minor": 0
      },
      "text/plain": [
       "Output(layout=Layout(border='1px solid black'))"
      ]
     },
     "metadata": {},
     "output_type": "display_data"
    }
   ],
   "source": [
    "import json\n",
    "import sys\n",
    "\n",
    "import ipywidgets as widgets\n",
    "import requests\n",
    "from IPython.display import display\n",
    "\n",
    "\n",
    "class HepWrapper:\n",
    "\n",
    "    entries_limit = 1000\n",
    "\n",
    "    @staticmethod\n",
    "    @out1.capture()\n",
    "    def getHepIDfromDoi(doi_string: str) -> str:\n",
    "        response = requests.get(f\"https://inspirehep.net/api/doi/{doi_string}\")\n",
    "        hit = response.json()\n",
    "        # print(hit)\n",
    "        return str(hit[\"metadata\"][\"control_number\"])\n",
    "\n",
    "    @staticmethod\n",
    "    @out1.capture()\n",
    "    def getPublicationDictFromHepID(hepID: str) -> str:\n",
    "        response = requests.get(f\"https://inspirehep.net/api/literature/{hepID}\")\n",
    "        hit = response.json()\n",
    "        return hit\n",
    "\n",
    "    @staticmethod\n",
    "    @out1.capture()\n",
    "    def getPublicationTitleFromPublicationDict(pubDict: str) -> str:\n",
    "        return pubDict[\"metadata\"][\"titles\"][0][\"title\"]\n",
    "\n",
    "    @staticmethod\n",
    "    @out1.capture()\n",
    "    def getCitationsDictFromHepID(hepID: str) -> dict:\n",
    "\n",
    "        entries_limit = 1000\n",
    "        response = requests.get(\n",
    "            f\"https://inspirehep.net/api/literature?q=refersto:recid:{hepID}&size={entries_limit}\"\n",
    "        )\n",
    "        print(\"parsing data..\")\n",
    "        hits = response.json()[\"hits\"][\"hits\"]\n",
    "        citations_in_year = {}\n",
    "\n",
    "        for hit in hits:\n",
    "            datestring = str(hit[\"created\"])\n",
    "            year = datestring.split(\"-\")[0]\n",
    "\n",
    "            if year not in citations_in_year:\n",
    "                citations_in_year[year] = 1\n",
    "            else:\n",
    "                citations_in_year[year] = citations_in_year[year] + 1\n",
    "\n",
    "        return citations_in_year\n",
    "\n",
    "\n",
    "txtDoiInput = widgets.Text(\n",
    "    value=\"10.1103/PhysRevLett.19.1264\",\n",
    "    placeholder=\"Type something\",\n",
    "    description=\"DOI code:\",\n",
    "    disabled=False,\n",
    ")\n",
    "\n",
    "btnLoadDoi = widgets.Button(description=\"Load DOI\", button_style='primary')\n",
    "btnClearOutput = widgets.Button(description=\"Clear output\", button_style='danger')\n",
    "out1 = widgets.Output(layout={\"border\": \"1px solid black\"})\n",
    "link = widgets.HTML(None,)\n",
    "doilink = widgets.HTML(None,)\n",
    "\n",
    "\n",
    "display(txtDoiInput)\n",
    "display(btnLoadDoi)\n",
    "display(btnClearOutput)\n",
    "display(link)\n",
    "display(doilink)\n",
    "display(out1)\n",
    "\n",
    "@out1.capture()\n",
    "def disableControls():\n",
    "    btnLoadDoi.disabled = True\n",
    "    btnClearOutput.disabled = True\n",
    "    btnLoadDoi.description = \"..work in progress..\"\n",
    "\n",
    "\n",
    "@out1.capture()\n",
    "def enableControls():\n",
    "    btnLoadDoi.description = \"Load DOI\"\n",
    "    btnLoadDoi.disabled = False\n",
    "    btnClearOutput.disabled = False\n",
    "    \n",
    "    \n",
    "@out1.capture()\n",
    "def on_btnLoadDoi_clicked(b):\n",
    "    disableControls()\n",
    "    hw = HepWrapper()\n",
    "    identifier_value = hw.getHepIDfromDoi(txtDoiInput.value)    \n",
    "    print(f\"hepID translated: {identifier_value}\")\n",
    "    \n",
    "    link.value=f\"<a style=\\\"color:blue;\\\" href=https://inspirehep.net/literature/{identifier_value} target='_blank'>link to inspire-HEP publication page</a>\"\n",
    "    doilink.value=f\"<a style=\\\"color:blue;\\\" href=https://doi.org/{txtDoiInput.value} target='_blank'>DOI link</a>\"\n",
    "                \n",
    "    pub_dict = hw.getPublicationDictFromHepID(identifier_value)\n",
    "    pub_title = hw.getPublicationTitleFromPublicationDict(pub_dict)\n",
    "    \n",
    "    if pub_title == None:\n",
    "        print(f\"Publication title not found. Check if DOI is valid.\")\n",
    "        enableControls()\n",
    "        return\n",
    "    \n",
    "    print(f\"publication title: {pub_title}\")    \n",
    "    print(f\"Getting publication metadata...\")\n",
    "    cits_dict = hw.getCitationsDictFromHepID(identifier_value)\n",
    "    print(f\"...ok\")\n",
    "    \n",
    "    text = \"\"\n",
    "    y = 0\n",
    "    first_year = sorted(cits_dict)[0]\n",
    "    print(f\"first_year: {first_year}\")\n",
    "    print(f\"total citations: {len(cits_dict)}\")\n",
    "    \n",
    "    for year in sorted(cits_dict):\n",
    "        text = text + f\"rel_year: {int(year)-int(first_year)} year: {year} citations_in_year: {cits_dict[year]}\\n\"\n",
    "        \n",
    "    print(text)\n",
    "    enableControls()\n",
    "    \n",
    "\n",
    "    \n",
    "@out1.capture()\n",
    "def on_btnClearOutput_clicked(b):\n",
    "    out1.clear_output()\n",
    "    link.value=\"\"\n",
    "    doilink.value=\"\"\n",
    "        \n",
    "\n",
    "btnLoadDoi.on_click(on_btnLoadDoi_clicked)\n",
    "btnClearOutput.on_click(on_btnClearOutput_clicked)\n",
    "\n",
    "\n"
   ]
  },
  {
   "cell_type": "code",
   "execution_count": null,
   "id": "890088cc-5214-4d7e-9cdc-98b2db2c7e8d",
   "metadata": {},
   "outputs": [],
   "source": []
  }
 ],
 "metadata": {
  "kernelspec": {
   "display_name": "Python 3",
   "language": "python",
   "name": "python3"
  },
  "language_info": {
   "codemirror_mode": {
    "name": "ipython",
    "version": 3
   },
   "file_extension": ".py",
   "mimetype": "text/x-python",
   "name": "python",
   "nbconvert_exporter": "python",
   "pygments_lexer": "ipython3",
   "version": "3.6.8"
  }
 },
 "nbformat": 4,
 "nbformat_minor": 5
}
